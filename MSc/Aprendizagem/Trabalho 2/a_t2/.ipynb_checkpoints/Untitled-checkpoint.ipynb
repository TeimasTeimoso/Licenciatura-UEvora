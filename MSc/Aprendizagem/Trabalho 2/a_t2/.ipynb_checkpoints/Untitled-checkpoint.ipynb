{
 "cells": [
  {
   "cell_type": "markdown",
   "id": "7b967b70-cf58-4200-ac64-8d9ae323c005",
   "metadata": {},
   "source": [
    "# Aprendizagem - 2nd Assignment\n",
    "For the 2nd assignment of Aprendizagem we were asked to predict the canopy height of a tree given a set of features. The datasets are available on [kaggle](https://www.kaggle.com/c/canopy-height/)."
   ]
  },
  {
   "cell_type": "markdown",
   "id": "2e0bc740-24eb-4807-8ae2-cac8601ac25b",
   "metadata": {},
   "source": [
    "## Data presentation and analysis\n",
    "The data available for each tree is collected by satelites. The dataset available has 154 attributes with the first one being the tree's _id_ and the last one being the tree's canopy height prediction (_rh98_). All the attributes are numerical, as well as the predicted canopy height. "
   ]
  },
  {
   "cell_type": "code",
   "execution_count": 1,
   "id": "20d79dfc-897c-4287-8743-86b02fd5c8a2",
   "metadata": {},
   "outputs": [],
   "source": [
    "import pandas as pd"
   ]
  },
  {
   "cell_type": "code",
   "execution_count": null,
   "id": "9c87699d-50d5-48d3-ab9d-527c360f9c28",
   "metadata": {},
   "outputs": [],
   "source": []
  }
 ],
 "metadata": {
  "kernelspec": {
   "display_name": "Python 3 (ipykernel)",
   "language": "python",
   "name": "python3"
  },
  "language_info": {
   "codemirror_mode": {
    "name": "ipython",
    "version": 3
   },
   "file_extension": ".py",
   "mimetype": "text/x-python",
   "name": "python",
   "nbconvert_exporter": "python",
   "pygments_lexer": "ipython3",
   "version": "3.9.5"
  }
 },
 "nbformat": 4,
 "nbformat_minor": 5
}
